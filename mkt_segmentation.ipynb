{
 "cells": [
  {
   "cell_type": "markdown",
   "metadata": {},
   "source": [
    "# Market Segmentation exercise\n",
    "#### Aris Dressino, October 2019, Big Data and Management at Luiss Business School\n",
    "\n",
    "- for scooter company\n",
    "- identify clusters to perform marketing\n",
    "- scooters are taken and given to special stations\n",
    "- 30 free minutes for unlimited trips with membership"
   ]
  },
  {
   "cell_type": "markdown",
   "metadata": {},
   "source": [
    "## Cleaning and Normalizing data for sex identification"
   ]
  },
  {
   "cell_type": "code",
   "execution_count": 1,
   "metadata": {},
   "outputs": [],
   "source": [
    "# general libraries\n",
    "import pandas as pd\n",
    "import numpy as np\n",
    "import matplotlib.pyplot as plt\n"
   ]
  },
  {
   "cell_type": "code",
   "execution_count": 2,
   "metadata": {},
   "outputs": [],
   "source": [
    "mkt = pd.read_csv('MarketSegmentation.csv')\n"
   ]
  },
  {
   "cell_type": "code",
   "execution_count": 3,
   "metadata": {},
   "outputs": [
    {
     "data": {
      "text/plain": [
       "(185190, 7)"
      ]
     },
     "execution_count": 3,
     "metadata": {},
     "output_type": "execute_result"
    }
   ],
   "source": [
    "# dimensions of dataframe\n",
    "mkt.shape\n"
   ]
  },
  {
   "cell_type": "code",
   "execution_count": 4,
   "metadata": {},
   "outputs": [],
   "source": [
    "# extracting values for classification problem\n",
    "x = mkt.iloc[:, :6].values\n",
    "y = mkt.iloc[:, -1].values\n"
   ]
  },
  {
   "cell_type": "code",
   "execution_count": 5,
   "metadata": {},
   "outputs": [
    {
     "name": "stdout",
     "output_type": "stream",
     "text": [
      "(185190, 6)\n"
     ]
    },
    {
     "data": {
      "text/plain": [
       "array([0, 0, 1, ..., 0, 0, 0])"
      ]
     },
     "execution_count": 5,
     "metadata": {},
     "output_type": "execute_result"
    }
   ],
   "source": [
    "print(x.shape)    # independent variables\n",
    "y    # dependent variable = sex of the user\n"
   ]
  },
  {
   "cell_type": "code",
   "execution_count": 6,
   "metadata": {},
   "outputs": [],
   "source": [
    "# train-test split at 20%\n",
    "from sklearn.model_selection import train_test_split\n",
    "x_train, x_test, y_train, y_test = train_test_split(x, y, test_size = 0.2, random_state = 0)\n",
    "\n",
    "# normalization of numerical variables (1b)\n",
    "from sklearn.preprocessing import StandardScaler\n",
    "sc = StandardScaler()\n",
    "x_train = sc.fit_transform(x_train)    # standardization mean = 0, sd=1\n",
    "x_test = sc.fit_transform(x_test)\n"
   ]
  },
  {
   "cell_type": "code",
   "execution_count": 7,
   "metadata": {},
   "outputs": [
    {
     "name": "stdout",
     "output_type": "stream",
     "text": [
      "(185190, 6)\n",
      "(37038, 6)\n"
     ]
    }
   ],
   "source": [
    "print(x.shape)\n",
    "print(x_test.shape)\n",
    "# y_test\n"
   ]
  },
  {
   "cell_type": "markdown",
   "metadata": {},
   "source": [
    "## KNN Classification of sex <- More Precise"
   ]
  },
  {
   "cell_type": "code",
   "execution_count": 8,
   "metadata": {},
   "outputs": [],
   "source": [
    "# Fitting K-NN to the Training set\n",
    "from sklearn.neighbors import KNeighborsClassifier\n",
    "classifier = KNeighborsClassifier(n_neighbors = 8, metric = 'euclidean', p = 2)    # or 'minkowski'\n",
    "classifier.fit(x_train, y_train)\n",
    "\n",
    "# Predicting the Test set results about sex of customers\n",
    "y_pred = classifier.predict(x_test)\n"
   ]
  },
  {
   "cell_type": "code",
   "execution_count": 9,
   "metadata": {},
   "outputs": [
    {
     "data": {
      "text/plain": [
       "array([[25695,  1568],\n",
       "       [ 8569,  1206]])"
      ]
     },
     "execution_count": 9,
     "metadata": {},
     "output_type": "execute_result"
    }
   ],
   "source": [
    "from sklearn.metrics import confusion_matrix\n",
    "cm = confusion_matrix(y_test, y_pred)\n",
    "cm\n",
    "\n",
    "# accuracy of 65%"
   ]
  },
  {
   "cell_type": "markdown",
   "metadata": {},
   "source": [
    "## Random Forest Classification of sex"
   ]
  },
  {
   "cell_type": "code",
   "execution_count": 10,
   "metadata": {},
   "outputs": [
    {
     "data": {
      "text/plain": [
       "array([[22077,  5186],\n",
       "       [ 7118,  2657]])"
      ]
     },
     "execution_count": 10,
     "metadata": {},
     "output_type": "execute_result"
    }
   ],
   "source": [
    "# Fitting Random Forest Classification to the Training set\n",
    "from sklearn.ensemble import RandomForestClassifier\n",
    "classifier = RandomForestClassifier(n_estimators = 10, criterion = 'entropy', random_state = 0)\n",
    "classifier.fit(x_train, y_train)\n",
    "\n",
    "# Predicting the Test set results\n",
    "y_pred = classifier.predict(x_test)\n",
    "\n",
    "# Making the Confusion Matrix\n",
    "from sklearn.metrics import confusion_matrix\n",
    "cm = confusion_matrix(y_test, y_pred)\n",
    "cm    # accuracy of 58%"
   ]
  },
  {
   "cell_type": "markdown",
   "metadata": {},
   "source": [
    "## Clustering analysis\n",
    "\n",
    "- study of clusters group"
   ]
  },
  {
   "cell_type": "code",
   "execution_count": 11,
   "metadata": {},
   "outputs": [
    {
     "data": {
      "text/plain": [
       "(185190, 7)"
      ]
     },
     "execution_count": 11,
     "metadata": {},
     "output_type": "execute_result"
    }
   ],
   "source": [
    "mkt = pd.read_csv('MarketSegmentation.csv')\n",
    "\n",
    "x = mkt.iloc[:].values\n",
    "\n",
    "# # standardization mean = 0, sd=1 (1b)\n",
    "from sklearn.preprocessing import StandardScaler\n",
    "sc = StandardScaler()\n",
    "x = sc.fit_transform(x)    # features' scaling\n",
    "\n",
    "x.shape"
   ]
  },
  {
   "cell_type": "code",
   "execution_count": 25,
   "metadata": {},
   "outputs": [
    {
     "name": "stdout",
     "output_type": "stream",
     "text": [
      " scaled value -0.815991  : 111169.000000\n",
      " scaled value 1.225503  : 74021.000000\n",
      "[ 1.22550299  1.22550299 -0.81599148 ...  1.22550299  1.22550299\n",
      "  1.22550299]\n"
     ]
    }
   ],
   "source": [
    "scal = dict()\n",
    "for n in x[:,2]: \n",
    "    if (n in scal): \n",
    "         scal[n] += 1\n",
    "    else: \n",
    "         scal[n] = 1\n",
    "scal = dict(sorted(scal.items()))\n",
    "for key, value in scal.items(): \n",
    "    print (\" scaled value %.6f  : %.6f\"%(key, value))\n",
    "    \n",
    "print(x[:,2])\n",
    "\n",
    "# theoretically, it is not always a good idea to standardize categorical variables, but we can observe that the binary relation\n",
    "# 0 and 1 of one-hot encoded variables is maintained between the observations although we have different values representing it\n",
    "# I have chosen to use standardized distributions for categories in order to fit them better with other the other dimensions\n"
   ]
  },
  {
   "cell_type": "markdown",
   "metadata": {},
   "source": [
    "## Elbow Method on multiple dimensions"
   ]
  },
  {
   "cell_type": "code",
   "execution_count": 13,
   "metadata": {},
   "outputs": [
    {
     "data": {
      "image/png": "[encoded data removed]",
      "text/plain": [
       "<Figure size 432x288 with 1 Axes>"
      ]
     },
     "metadata": {
      "needs_background": "light"
     },
     "output_type": "display_data"
    }
   ],
   "source": [
    "# Using the elbow method to find the optimal number of clusters (2)\n",
    "from sklearn.cluster import KMeans\n",
    "wcss = []\n",
    "for i in range(1,11):\n",
    "    kmeans = KMeans(n_clusters = i, init = 'k-means++', random_state = 42)\n",
    "    kmeans.fit(x)\n",
    "    wcss.append(kmeans.inertia_)\n",
    "plt.plot(range(1, 11), wcss)\n",
    "plt.title('The Elbow Method')\n",
    "plt.xlabel('Number of clusters')\n",
    "plt.ylabel('WCSS')\n",
    "plt.show()\n",
    "\n",
    "# 6 clusters could be the point where the decreasing function is stabilized\n"
   ]
  },
  {
   "cell_type": "markdown",
   "metadata": {},
   "source": [
    "## K-Means fitting\n",
    "\n",
    "- probably overfitting due to outliers and complex dimensionality"
   ]
  },
  {
   "cell_type": "code",
   "execution_count": 14,
   "metadata": {},
   "outputs": [],
   "source": [
    "# y_km\n",
    "\n",
    "# function to count observations in the clusters\n",
    "def count_clusters(ls):\n",
    "    km = {} \n",
    "    for n in ls: \n",
    "        if (n in km): \n",
    "             km[n] += 1\n",
    "        else: \n",
    "            km[n] = 1\n",
    "    km = dict(sorted(km.items()))\n",
    "    for key, value in km.items(): \n",
    "        print (\" cluster % d : % d\"%(key, value))"
   ]
  },
  {
   "cell_type": "code",
   "execution_count": 15,
   "metadata": {},
   "outputs": [],
   "source": [
    "#### Fitting K-Means = 10 to the dataset\n",
    "\n",
    "km10 = KMeans(n_clusters = 10, init = 'k-means++', random_state = 40)\n",
    "\n",
    "y_km10 = km10.fit_predict(x)\n"
   ]
  },
  {
   "cell_type": "code",
   "execution_count": 16,
   "metadata": {},
   "outputs": [
    {
     "data": {
      "text/plain": [
       "array([9, 9, 3, ..., 0, 0, 0], dtype=int32)"
      ]
     },
     "execution_count": 16,
     "metadata": {},
     "output_type": "execute_result"
    }
   ],
   "source": [
    "y_km10"
   ]
  },
  {
   "cell_type": "code",
   "execution_count": 17,
   "metadata": {},
   "outputs": [
    {
     "name": "stdout",
     "output_type": "stream",
     "text": [
      " cluster  0 :  18282\n",
      " cluster  1 :  15785\n",
      " cluster  2 :  15822\n",
      " cluster  3 :  7971\n",
      " cluster  4 :  104\n",
      " cluster  5 :  28495\n",
      " cluster  6 :  44597\n",
      " cluster  7 :  16713\n",
      " cluster  8 :  9740\n",
      " cluster  9 :  27681\n"
     ]
    }
   ],
   "source": [
    "count_clusters(y_km10)    # overfitting and groups with too little observations\n"
   ]
  },
  {
   "cell_type": "code",
   "execution_count": 18,
   "metadata": {},
   "outputs": [
    {
     "data": {
      "text/plain": [
       "array([[-4.37037570e-02, -6.95701984e-01,  1.19771009e+00,\n",
       "        -5.77071763e-01,  1.33416345e+00, -4.37597572e-01,\n",
       "        -5.90125256e-01],\n",
       "       [ 1.59496666e-02,  1.43739708e+00, -8.15991481e-01,\n",
       "        -5.77071763e-01, -1.36924398e-02, -6.00334036e-02,\n",
       "         1.67446738e+00],\n",
       "       [ 2.95904290e-02, -6.95701984e-01,  1.14856289e+00,\n",
       "        -5.77071763e-01, -2.99369916e-02, -4.52731568e-01,\n",
       "         1.67446738e+00],\n",
       "       [ 2.10268995e-02, -6.95701984e-01, -8.15991481e-01,\n",
       "         1.73288673e+00, -3.76840561e-01,  2.20881439e+00,\n",
       "         2.60729473e-02],\n",
       "       [ 3.53492665e+01, -2.44469489e-01, -5.80434426e-01,\n",
       "         7.11174320e-01, -4.96760016e-02, -1.76711718e-02,\n",
       "        -7.44377049e-03],\n",
       "       [-2.81014635e-02, -6.95701984e-01, -8.15991481e-01,\n",
       "         1.73288673e+00, -2.13480546e-01, -4.52731568e-01,\n",
       "        -5.97204825e-01],\n",
       "       [-8.01562899e-02,  1.43677528e+00, -8.15991481e-01,\n",
       "        -5.77071763e-01,  1.76084496e-01, -1.92109302e-01,\n",
       "        -5.97204825e-01],\n",
       "       [ 9.30630943e-02, -6.94680935e-01,  9.95982970e-01,\n",
       "        -5.77071763e-01, -2.45231721e-01,  2.20881439e+00,\n",
       "         9.26017007e-02],\n",
       "       [ 5.78094296e-02, -6.95701984e-01, -8.15991481e-01,\n",
       "         1.73288673e+00, -3.16755604e-01, -4.52731568e-01,\n",
       "         1.67446738e+00],\n",
       "       [-5.44504180e-02, -6.95701984e-01,  1.09533292e+00,\n",
       "        -5.77071763e-01, -5.52338538e-01, -4.52731568e-01,\n",
       "        -5.97204825e-01]])"
      ]
     },
     "execution_count": 18,
     "metadata": {},
     "output_type": "execute_result"
    }
   ],
   "source": [
    "# 10 centroids of 7 dimensions\n",
    "km10.cluster_centers_\n"
   ]
  },
  {
   "cell_type": "code",
   "execution_count": 19,
   "metadata": {},
   "outputs": [
    {
     "name": "stdout",
     "output_type": "stream",
     "text": [
      " cluster  0 :  31484\n",
      " cluster  1 :  53673\n",
      " cluster  2 :  38236\n",
      " cluster  3 :  45822\n",
      " cluster  4 :  104\n",
      " cluster  5 :  15871\n"
     ]
    }
   ],
   "source": [
    "#### Fitting K-Means = 6 to the dataset <- good clustering\n",
    "\n",
    "km6 = KMeans(n_clusters = 6, init = 'k-means++', random_state = 40)    # or 'random'\n",
    "\n",
    "y_km6 = km6.fit_predict(x)\n",
    "\n",
    "count_clusters(y_km6)\n"
   ]
  },
  {
   "cell_type": "code",
   "execution_count": 20,
   "metadata": {},
   "outputs": [
    {
     "data": {
      "text/plain": [
       "array([[ 6.64857932e-02, -2.41493620e-01,  1.52622559e-01,\n",
       "         7.75478889e-03, -2.33527774e-01,  2.20881439e+00,\n",
       "         9.48167785e-02],\n",
       "       [-6.83510641e-02,  1.43739708e+00, -8.15991481e-01,\n",
       "        -5.77071763e-01,  1.52461527e-01, -4.52731568e-01,\n",
       "        -2.76890301e-02],\n",
       "       [-5.76439790e-03, -6.95701984e-01, -8.15991481e-01,\n",
       "         1.73282632e+00, -2.39795387e-01, -4.52731568e-01,\n",
       "        -1.85332243e-02],\n",
       "       [-5.13934085e-02, -6.95701984e-01,  1.13537285e+00,\n",
       "        -5.77071763e-01,  1.88941457e-01, -4.52731568e-01,\n",
       "        -5.97204825e-01],\n",
       "       [ 3.53492665e+01, -2.44469489e-01, -5.80434426e-01,\n",
       "         7.11174320e-01, -4.96760016e-02, -1.76711718e-02,\n",
       "        -7.44377049e-03],\n",
       "       [ 2.98910290e-02, -6.95701984e-01,  1.14845333e+00,\n",
       "        -5.77071763e-01, -1.98079386e-02, -4.52731568e-01,\n",
       "         1.67446738e+00]])"
      ]
     },
     "execution_count": 20,
     "metadata": {},
     "output_type": "execute_result"
    }
   ],
   "source": [
    "# 6 centroids of 7 dimensions\n",
    "km6.cluster_centers_\n"
   ]
  },
  {
   "cell_type": "code",
   "execution_count": 21,
   "metadata": {},
   "outputs": [
    {
     "name": "stdout",
     "output_type": "stream",
     "text": [
      " cluster  0 :  60398\n",
      " cluster  1 :  78511\n",
      " cluster  2 :  46281\n"
     ]
    }
   ],
   "source": [
    "#### Fitting K-Means = 3 to the dataset <- appropriate clustering with clearly separated groups\n",
    "# with similar amount of observations\n",
    "\n",
    "km3 = KMeans(\n",
    "    n_clusters=3, init='k-means++',    # or 'random'\n",
    "    n_init=12, max_iter=400, \n",
    "    tol=1e-04, random_state=40)\n",
    "\n",
    "y_km3 = km3.fit_predict(x)\n",
    "\n",
    "count_clusters(y_km3)\n"
   ]
  },
  {
   "cell_type": "code",
   "execution_count": 22,
   "metadata": {},
   "outputs": [
    {
     "data": {
      "text/plain": [
       "array([[-4.38182900e-02,  1.43739708e+00, -8.15991481e-01,\n",
       "        -5.77071763e-01,  1.26185253e-01, -1.57175611e-01,\n",
       "        -3.35349676e-03],\n",
       "       [ 6.90367326e-04, -6.95701984e-01,  1.10875107e+00,\n",
       "        -5.77071763e-01,  5.82081025e-02,  1.17098468e-01,\n",
       "         8.94286291e-03],\n",
       "       [ 5.60129568e-02, -6.95655894e-01, -8.15991481e-01,\n",
       "         1.73203823e+00, -2.63419400e-01,  6.47295303e-03,\n",
       "        -1.07942485e-02]])"
      ]
     },
     "execution_count": 22,
     "metadata": {},
     "output_type": "execute_result"
    }
   ],
   "source": [
    "# 3 centroids of 7 dimensions\n",
    "km3.cluster_centers_\n"
   ]
  },
  {
   "cell_type": "code",
   "execution_count": 23,
   "metadata": {},
   "outputs": [
    {
     "name": "stdout",
     "output_type": "stream",
     "text": [
      " cluster  0 :  111169\n",
      " cluster  1 :  74021\n"
     ]
    }
   ],
   "source": [
    "#### Fitting K-Means = 2 to the dataset\n",
    "\n",
    "km2 = KMeans(\n",
    "    n_clusters=2, init='k-means++',    # or 'random'\n",
    "    n_init=12, max_iter=400, \n",
    "    tol=1e-04, random_state=40)\n",
    "\n",
    "y_km2 = km2.fit_predict(x)\n",
    "\n",
    "count_clusters(y_km2)\n"
   ]
  },
  {
   "cell_type": "code",
   "execution_count": 24,
   "metadata": {},
   "outputs": [
    {
     "data": {
      "text/plain": [
       "array([[-0.00186944,  0.46322767, -0.81599148,  0.38423867, -0.062319  ,\n",
       "        -0.05626132, -0.01139134],\n",
       "       [ 0.00280764, -0.69570198,  1.22550299, -0.57707176,  0.09359426,\n",
       "         0.08449649,  0.01710818]])"
      ]
     },
     "execution_count": 24,
     "metadata": {},
     "output_type": "execute_result"
    }
   ],
   "source": [
    "# 2 centroids of 7 dimensions\n",
    "km2.cluster_centers_\n"
   ]
  },
  {
   "cell_type": "code",
   "execution_count": null,
   "metadata": {},
   "outputs": [],
   "source": []
  }
 ],
 "metadata": {
  "kernelspec": {
   "display_name": "Python 3",
   "language": "python",
   "name": "python3"
  },
  "language_info": {
   "codemirror_mode": {
    "name": "ipython",
    "version": 3
   },
   "file_extension": ".py",
   "mimetype": "text/x-python",
   "name": "python",
   "nbconvert_exporter": "python",
   "pygments_lexer": "ipython3",
   "version": "3.7.4"
  }
 },
 "nbformat": 4,
 "nbformat_minor": 4
}
